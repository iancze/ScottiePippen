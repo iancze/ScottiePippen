{
 "cells": [
  {
   "cell_type": "code",
   "execution_count": 7,
   "metadata": {
    "collapsed": true
   },
   "outputs": [],
   "source": [
    "import numpy as np\n",
    "import matplotlib.pyplot as plt\n",
    "from astropy.io import ascii"
   ]
  },
  {
   "cell_type": "code",
   "execution_count": 5,
   "metadata": {
    "collapsed": true
   },
   "outputs": [],
   "source": [
    "masses = [0.400, 0.500, 0.600, 0.700, 0.800, 0.900, 1.000, 1.100, 1.200, 1.300, 1.400]\n",
    "Ts = [3634., 3802., 3955., 4078., 4192., 4290., 4377., 4456., 4529., 4596., 4658.]\n",
    "ll = [-0.32, -0.18, -0.07, 0.04, 0.13, 0.21, 0.28, 0.35, 0.41, 0.47, 0.52]"
   ]
  },
  {
   "cell_type": "code",
   "execution_count": 6,
   "metadata": {
    "collapsed": true
   },
   "outputs": [],
   "source": [
    "fig, ax = plt.subplots(nrows=2, sharex=True)\n",
    "ax[0].plot(masses, Ts)\n",
    "ax[0].plot(masses, Ts, \"o\")\n",
    "ax[1].plot(masses, ll)\n",
    "ax[1].plot(masses, ll, \"o\")\n",
    "fig.savefig(\"linearOrLog.png\")"
   ]
  },
  {
   "cell_type": "code",
   "execution_count": 8,
   "metadata": {
    "collapsed": true
   },
   "outputs": [],
   "source": [
    "data = ascii.read(\"/home/ian/Grad/Research/Stars/ScottiePippen/data/Dartmouth/PMS/fehp00afep0/m125fehp00afep0.jc2mass\", names=[\"age\", \"LTeff\", \"logg\", \"LL\", \"U\", \"B\", \"V\", \"R\", \"I\", \"J\", \"H\", \"Ks\"])"
   ]
  },
  {
   "cell_type": "code",
   "execution_count": 12,
   "metadata": {
    "collapsed": true
   },
   "outputs": [],
   "source": [
    "age = 1e-6 * data[\"age\"] # [Myr]\n",
    "\n",
    "ind = (age < 100)\n",
    "\n",
    "age = age[ind]\n",
    "ll = data[\"LL\"][ind] # [log(L_sun)]\n",
    "tt = 10**data[\"LTeff\"][ind] #[K]"
   ]
  },
  {
   "cell_type": "code",
   "execution_count": 13,
   "metadata": {
    "collapsed": true
   },
   "outputs": [],
   "source": [
    "fig, ax = plt.subplots(nrows=2, sharex=True)\n",
    "ax[0].plot(age, tt)\n",
    "ax[0].plot(age, tt, \"o\")\n",
    "ax[1].plot(age, ll)\n",
    "ax[1].plot(age, ll, \"o\")\n",
    "fig.savefig(\"linearOrLog_age.png\")"
   ]
  },
  {
   "cell_type": "code",
   "execution_count": null,
   "metadata": {
    "collapsed": true
   },
   "outputs": [],
   "source": []
  }
 ],
 "metadata": {
  "kernelspec": {
   "display_name": "Python 3",
   "language": "python",
   "name": "python3"
  },
  "language_info": {
   "codemirror_mode": {
    "name": "ipython",
    "version": 3
   },
   "file_extension": ".py",
   "mimetype": "text/x-python",
   "name": "python",
   "nbconvert_exporter": "python",
   "pygments_lexer": "ipython3",
   "version": "3.4.3"
  }
 },
 "nbformat": 4,
 "nbformat_minor": 0
}
